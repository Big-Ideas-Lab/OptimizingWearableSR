{
 "cells": [
  {
   "cell_type": "code",
   "execution_count": 1,
   "metadata": {},
   "outputs": [],
   "source": [
    "def HRVTD(file,name,col,header, x):\n",
    "\n",
    "    import numpy as np\n",
    "    import pandas as pd\n",
    "\n",
    "\n",
    "    file = pd.read_csv(file)\n",
    "    file.columns = ['time', 'ibi']\n",
    "\n",
    "    time = file['time']\n",
    "    ibi2 = file['ibi']*1000\n",
    "\n",
    "    ibi = ibi2.rolling(window=10).mean()[10:]\n",
    "    ibi = ibi[~np.isnan(ibi)]\n",
    "    ibi2 = ibi2[~np.isnan(ibi2)]\n",
    "    x = x\n",
    "\n",
    "    def pNNX(ibi, x):\n",
    "      differences = abs(np.diff(ibi))\n",
    "      n = np.sum(differences > x)\n",
    "      p = (n / len(differences)) * 100\n",
    "      return (p, n)\n",
    "\n",
    "    def RMSSD(ibi):\n",
    "      differences = abs(np.diff(ibi))\n",
    "      rmssd = np.sqrt(np.sum(np.square(differences)) / len(differences))\n",
    "      return rmssd\n",
    "\n",
    "    results = {}\n",
    "    results['maxHrv'] = round(max(ibi) * 10) / 10\n",
    "    results['minHrv'] = round(min(ibi) * 10) / 10\n",
    "    results['meanHrv'] = round(np.mean(ibi) * 10) / 10\n",
    "    results['medianHrv'] = round(np.median(ibi) * 10) / 10\n",
    "    results['sdnn'] = round(np.sqrt(np.var(ibi, ddof=1)) * 10) / 10 #round(np.std(ibi, ddof=1) * 10) / 10\n",
    "    p, n = pNNX(ibi2, x)\n",
    "    results['nnx'] = round(n * 10) / 10\n",
    "    results['pnnx'] = round(p * 10) / 10\n",
    "    results['rmssd'] = round(RMSSD(ibi2) * 10) / 10\n",
    "    hr = 60 / (ibi / 1000)\n",
    "    results['meanHR'] = round(np.mean(hr) * 10) / 10\n",
    "    results['maxHR'] = round(np.max(hr) * 10) / 10\n",
    "    results['minHR'] = round(np.min(hr) * 10) / 10\n",
    "    \n",
    "    rr = pd.DataFrame.from_dict(results,orient='index', columns=[col])\n",
    "    rr2 = rr.transpose() \n",
    "    rr2.to_csv(name,index=True, header=header, mode='a')\n",
    "    \n",
    "    return;"
   ]
  },
  {
   "cell_type": "code",
   "execution_count": 34,
   "metadata": {},
   "outputs": [],
   "source": [
    "file = 'filename.csv'\n",
    "\n",
    "HRVTD('filenameECG.csv', file, 'ECG', True, 50)\n",
    "HRVTD('filepath/64Hz_IBI.csv', file, '64Hz', False, 50)\n",
    "HRVTD('filepath/32Hz_IBI.csv', file, '32Hz', False, 50)\n",
    "HRVTD('filepath/21Hz_IBI.csv', file, '21Hz', False, 50)\n",
    "HRVTD('filepath/16Hz_IBI.csv', file, '16Hz', False, 50)\n",
    "HRVTD('filepath/12.8Hz_IBI.csv', file, '12.8Hz', False, 50)\n",
    "HRVTD('filepath/10.67Hz_IBI.csv', file, '10.67Hz', False, 50)\n",
    "HRVTD('filepath/9.14Hz_IBI.csv', file, '9.14Hz', False, 50)\n",
    "HRVTD('filepath/8Hz_IBI.csv', file, '8Hz', False, 50)\n",
    "HRVTD('filepath/7.1Hz_IBI.csv', file, '7.1Hz', False, 50)\n",
    "HRVTD('filepath/B1O/6.4Hz_IBI.csv', file, '6.4Hz', False, 50)\n",
    "\n",
    "# True ONLY for first one\n",
    "# x= 50\n",
    "#ms=1 for ECG, ms=1000 for PPG -- NOT in STE study"
   ]
  }
 ],
 "metadata": {
  "kernelspec": {
   "display_name": "Python 3",
   "language": "python",
   "name": "python3"
  },
  "language_info": {
   "codemirror_mode": {
    "name": "ipython",
    "version": 3
   },
   "file_extension": ".py",
   "mimetype": "text/x-python",
   "name": "python",
   "nbconvert_exporter": "python",
   "pygments_lexer": "ipython3",
   "version": "3.6.9"
  }
 },
 "nbformat": 4,
 "nbformat_minor": 4
}
